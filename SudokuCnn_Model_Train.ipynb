{
  "nbformat": 4,
  "nbformat_minor": 0,
  "metadata": {
    "colab": {
      "provenance": [],
      "gpuType": "T4",
      "authorship_tag": "ABX9TyOvtN6FQm2ZMWnNPZE1IEBz",
      "include_colab_link": true
    },
    "kernelspec": {
      "name": "python3",
      "display_name": "Python 3"
    },
    "language_info": {
      "name": "python"
    },
    "accelerator": "GPU"
  },
  "cells": [
    {
      "cell_type": "markdown",
      "metadata": {
        "id": "view-in-github",
        "colab_type": "text"
      },
      "source": [
        "<a href=\"https://colab.research.google.com/github/ayush-2405/Sudoku_Solver/blob/main/SudokuCnn_Model_Train.ipynb\" target=\"_parent\"><img src=\"https://colab.research.google.com/assets/colab-badge.svg\" alt=\"Open In Colab\"/></a>"
      ]
    },
    {
      "cell_type": "code",
      "source": [
        "import torch, torchvision\n",
        "from torch import nn\n",
        "from torch import optim\n",
        "from torchvision.transforms import ToTensor\n",
        "import torch.nn.functional as F\n",
        "from torch.utils.data import Dataset, DataLoader\n",
        "from torch.utils.data.dataset import TensorDataset\n",
        "import matplotlib.pyplot as plt\n",
        "import requests\n",
        "from PIL import Image\n",
        "from io import BytesIO\n",
        "import copy\n",
        "from sklearn.metrics import confusion_matrix\n",
        "from sklearn.datasets import fetch_openml\n",
        "import pandas as pd\n",
        "import numpy as np\n",
        "import cv2\n",
        "from google.colab.patches import cv2_imshow\n",
        "from google.colab import drive\n",
        "drive.mount('/content/gdrive')\n",
        "import os\n",
        "import albumentations as A"
      ],
      "metadata": {
        "id": "e1ya8Y6ErrJt",
        "colab": {
          "base_uri": "https://localhost:8080/"
        },
        "outputId": "0f489432-6237-46f0-a4c8-f36f3e2fb868"
      },
      "execution_count": 113,
      "outputs": [
        {
          "output_type": "stream",
          "name": "stdout",
          "text": [
            "Drive already mounted at /content/gdrive; to attempt to forcibly remount, call drive.mount(\"/content/gdrive\", force_remount=True).\n"
          ]
        }
      ]
    },
    {
      "cell_type": "code",
      "source": [
        "labels = os.listdir('/content/gdrive/MyDrive/Sudoku/assets')\n",
        "print(labels)"
      ],
      "metadata": {
        "colab": {
          "base_uri": "https://localhost:8080/"
        },
        "id": "LX-CEVwlpNQ5",
        "outputId": "ce0a5eec-2007-4eb4-aeaa-18a737a924ad"
      },
      "execution_count": 114,
      "outputs": [
        {
          "output_type": "stream",
          "name": "stdout",
          "text": [
            "['0', '5', '4', '8', '7', '6', '3', '1', '2', '9']\n"
          ]
        }
      ]
    },
    {
      "cell_type": "code",
      "source": [
        "T = torchvision.transforms.Compose([\n",
        "    torchvision.transforms.ToTensor()\n",
        "])"
      ],
      "metadata": {
        "id": "Jd7uMT5f_Ux5"
      },
      "execution_count": 115,
      "outputs": []
    },
    {
      "cell_type": "code",
      "source": [
        "device = torch.device(\"cuda\" if torch.cuda.is_available() else \"cpu\")"
      ],
      "metadata": {
        "id": "I9uRCdanBhk3"
      },
      "execution_count": 116,
      "outputs": []
    },
    {
      "cell_type": "markdown",
      "source": [
        "# **GETTING DATA**"
      ],
      "metadata": {
        "id": "TUGuUk8_9YU9"
      }
    },
    {
      "cell_type": "code",
      "source": [
        "X, y = fetch_openml('mnist_784', version=1, return_X_y=True)"
      ],
      "metadata": {
        "colab": {
          "base_uri": "https://localhost:8080/"
        },
        "id": "mFd8i_sk-nEC",
        "outputId": "808041d0-342b-4214-ebb2-5a1d2d083c33"
      },
      "execution_count": 117,
      "outputs": [
        {
          "output_type": "stream",
          "name": "stderr",
          "text": [
            "/usr/local/lib/python3.10/dist-packages/sklearn/datasets/_openml.py:968: FutureWarning: The default value of `parser` will change from `'liac-arff'` to `'auto'` in 1.4. You can set `parser='auto'` to silence this warning. Therefore, an `ImportError` will be raised from 1.4 if the dataset is dense and pandas is not installed. Note that the pandas parser may return different data types. See the Notes Section in fetch_openml's API doc for details.\n",
            "  warn(\n"
          ]
        }
      ]
    },
    {
      "cell_type": "code",
      "source": [
        "X = np.array(X)\n",
        "y = np.array(y,dtype = np.int64)\n",
        "\n",
        "X = ((X-np.mean(X))/(np.std(X)))\n",
        "X = X.reshape(X.shape[0],1,28,28)"
      ],
      "metadata": {
        "id": "PyRxX27OAt0y"
      },
      "execution_count": 118,
      "outputs": []
    },
    {
      "cell_type": "code",
      "source": [
        "X = X.astype('float')\n",
        "y = np.int_(y)"
      ],
      "metadata": {
        "id": "dwzx1p7kAxuX"
      },
      "execution_count": 119,
      "outputs": []
    },
    {
      "cell_type": "code",
      "source": [
        "X = torch.tensor(X,device = device,dtype = torch.float)\n",
        "y = torch.tensor(y,device = device)\n",
        "y = y.type(torch.LongTensor)"
      ],
      "metadata": {
        "id": "ISLF-5GuBPRP"
      },
      "execution_count": 120,
      "outputs": []
    },
    {
      "cell_type": "code",
      "source": [
        "import PIL\n",
        "X_2 = []\n",
        "y_2 = []\n",
        "for label in labels:\n",
        "  images_path = os.path.join('/content/gdrive/MyDrive/Sudoku/assets', label)\n",
        "  images = os.listdir(images_path)\n",
        "  for img in images:\n",
        "        image = PIL.Image.open(os.path.join(images_path, img))\n",
        "        image = image.convert(\"L\")\n",
        "        X_2.append(np.array(image).reshape(784))\n",
        "        y_2.append(label)\n",
        "\n",
        "X_2 = np.array(X_2)\n",
        "y_2 = np.array(y_2,dtype = np.int64)\n",
        "\n",
        "X_2 = ((X_2-np.mean(X_2))/(np.std(X_2)))\n",
        "X_2 = X_2.reshape(X_2.shape[0],1,28,28)\n",
        "print(X_2[0],y_2[0])"
      ],
      "metadata": {
        "colab": {
          "base_uri": "https://localhost:8080/"
        },
        "collapsed": true,
        "id": "j_s4ZsUT52m0",
        "outputId": "1a17ecce-dcc6-448c-bfd8-f3d7d819acfa"
      },
      "execution_count": 121,
      "outputs": [
        {
          "output_type": "stream",
          "name": "stdout",
          "text": [
            "[[[-0.34725139 -0.36163253 -0.34725139 -0.36163253 -0.34725139\n",
            "   -0.33287024 -0.36163253 -0.36163253 -0.36163253 -0.36163253\n",
            "   -0.36163253 -0.36163253 -0.36163253 -0.36163253 -0.36163253\n",
            "   -0.36163253 -0.34725139 -0.36163253 -0.36163253 -0.34725139\n",
            "   -0.33287024 -0.36163253 -0.36163253 -0.36163253 -0.36163253\n",
            "   -0.36163253 -0.34725139 -0.34725139]\n",
            "  [-0.36163253 -0.30410794 -0.36163253 -0.33287024 -0.36163253\n",
            "   -0.36163253 -0.31848909 -0.36163253 -0.36163253 -0.36163253\n",
            "   -0.36163253 -0.36163253 -0.36163253 -0.36163253 -0.36163253\n",
            "   -0.36163253 -0.36163253 -0.27534564 -0.36163253 -0.36163253\n",
            "   -0.33287024 -0.34725139 -0.36163253 -0.34725139 -0.36163253\n",
            "   -0.34725139 -0.36163253 -0.36163253]\n",
            "  [-0.36163253 -0.36163253  3.29117916  3.30556031  3.30556031\n",
            "    3.30556031  3.30556031  3.29117916  3.30556031  3.30556031\n",
            "    3.30556031  3.30556031  3.30556031  3.30556031  3.30556031\n",
            "    3.30556031  3.29117916  3.29117916  3.30556031  3.30556031\n",
            "    3.30556031  3.24803572  3.30556031  3.30556031  3.30556031\n",
            "    3.30556031 -0.33287024 -0.36163253]\n",
            "  [-0.33287024 -0.36163253 -0.33287024 -0.34725139 -0.36163253\n",
            "   -0.36163253 -0.34725139 -0.36163253 -0.36163253 -0.36163253\n",
            "   -0.36163253 -0.36163253 -0.36163253 -0.36163253 -0.36163253\n",
            "   -0.36163253 -0.33287024 -0.36163253 -0.34725139 -0.36163253\n",
            "   -0.36163253 -0.28972679 -0.36163253  3.30556031  3.30556031\n",
            "    3.26241687 -0.36163253 -0.36163253]\n",
            "  [-0.36163253 -0.33287024 -0.36163253 -0.36163253 -0.36163253\n",
            "   -0.33287024 -0.36163253 -0.33287024 -0.36163253 -0.36163253\n",
            "   -0.36163253 -0.36163253 -0.36163253 -0.36163253 -0.36163253\n",
            "   -0.36163253 -0.36163253 -0.36163253 -0.36163253 -0.36163253\n",
            "   -0.36163253 -0.36163253 -0.36163253  3.30556031  3.30556031\n",
            "    3.30556031 -0.31848909 -0.34725139]\n",
            "  [-0.36163253 -0.36163253 -0.33287024 -0.31848909 -0.36163253\n",
            "   -0.34725139 -0.36163253 -0.36163253 -0.36163253 -0.36163253\n",
            "   -0.36163253 -0.36163253 -0.36163253 -0.36163253 -0.36163253\n",
            "   -0.36163253 -0.36163253 -0.34725139 -0.36163253 -0.36163253\n",
            "   -0.34725139 -0.36163253 -0.28972679  3.30556031  3.29117916\n",
            "    3.27679801 -0.36163253 -0.36163253]\n",
            "  [-0.34725139 -0.36163253 -0.34725139 -0.36163253 -0.33287024\n",
            "   -0.36163253 -0.31848909 -0.36163253 -0.36163253 -0.36163253\n",
            "   -0.36163253 -0.36163253 -0.36163253 -0.36163253 -0.36163253\n",
            "   -0.36163253 -0.36163253 -0.34725139 -0.34725139 -0.36163253\n",
            "   -0.36163253 -0.34725139 -0.36163253 -0.36163253  3.30556031\n",
            "    3.27679801 -0.33287024 -0.36163253]\n",
            "  [-0.36163253 -0.34725139 -0.36163253 -0.36163253 -0.33287024\n",
            "   -0.36163253 -0.36163253 -0.34725139 -0.36163253 -0.36163253\n",
            "   -0.36163253 -0.36163253 -0.36163253 -0.36163253 -0.36163253\n",
            "   -0.36163253 -0.36163253 -0.36163253 -0.36163253 -0.36163253\n",
            "   -0.33287024 -0.36163253 -0.31848909 -0.36163253  3.30556031\n",
            "    3.30556031 -0.36163253 -0.36163253]\n",
            "  [-0.36163253 -0.36163253 -0.36163253 -0.36163253 -0.36163253\n",
            "   -0.36163253 -0.36163253 -0.36163253 -0.36163253 -0.36163253\n",
            "   -0.36163253 -0.36163253 -0.36163253 -0.36163253 -0.36163253\n",
            "   -0.36163253 -0.36163253 -0.36163253 -0.36163253 -0.36163253\n",
            "   -0.36163253 -0.36163253 -0.36163253 -0.36163253  3.30556031\n",
            "    3.30556031 -0.36163253 -0.34725139]\n",
            "  [-0.36163253 -0.36163253 -0.36163253 -0.36163253 -0.36163253\n",
            "   -0.36163253 -0.36163253 -0.36163253 -0.36163253 -0.36163253\n",
            "   -0.36163253 -0.36163253 -0.36163253 -0.36163253 -0.36163253\n",
            "   -0.36163253 -0.36163253 -0.36163253 -0.36163253 -0.36163253\n",
            "   -0.36163253 -0.36163253 -0.36163253 -0.36163253  3.30556031\n",
            "    3.30556031 -0.36163253 -0.34725139]\n",
            "  [-0.36163253 -0.36163253 -0.36163253 -0.36163253 -0.36163253\n",
            "   -0.36163253 -0.36163253 -0.36163253 -0.36163253 -0.36163253\n",
            "   -0.36163253 -0.36163253 -0.36163253 -0.36163253 -0.36163253\n",
            "   -0.36163253 -0.36163253 -0.36163253 -0.36163253 -0.36163253\n",
            "   -0.36163253 -0.36163253 -0.36163253 -0.36163253  3.30556031\n",
            "    3.30556031 -0.36163253 -0.34725139]\n",
            "  [-0.36163253 -0.36163253 -0.36163253 -0.36163253 -0.36163253\n",
            "   -0.36163253 -0.36163253 -0.36163253 -0.36163253 -0.36163253\n",
            "   -0.36163253 -0.36163253 -0.36163253 -0.36163253 -0.36163253\n",
            "   -0.36163253 -0.36163253 -0.36163253 -0.36163253 -0.36163253\n",
            "   -0.36163253 -0.36163253 -0.36163253 -0.36163253  3.30556031\n",
            "    3.30556031 -0.36163253 -0.34725139]\n",
            "  [-0.36163253 -0.36163253 -0.36163253 -0.36163253 -0.36163253\n",
            "   -0.36163253 -0.36163253 -0.36163253 -0.36163253 -0.36163253\n",
            "   -0.36163253 -0.36163253 -0.36163253 -0.36163253 -0.36163253\n",
            "   -0.36163253 -0.36163253 -0.36163253 -0.36163253 -0.36163253\n",
            "   -0.36163253 -0.36163253 -0.36163253 -0.36163253  3.30556031\n",
            "    3.30556031 -0.36163253 -0.34725139]\n",
            "  [-0.36163253 -0.36163253 -0.36163253 -0.36163253 -0.36163253\n",
            "   -0.36163253 -0.36163253 -0.36163253 -0.36163253 -0.36163253\n",
            "   -0.36163253 -0.36163253 -0.36163253 -0.36163253 -0.36163253\n",
            "   -0.36163253 -0.36163253 -0.36163253 -0.36163253 -0.36163253\n",
            "   -0.36163253 -0.36163253 -0.36163253 -0.36163253  3.30556031\n",
            "    3.30556031 -0.36163253 -0.34725139]\n",
            "  [-0.36163253 -0.36163253 -0.36163253 -0.36163253 -0.36163253\n",
            "   -0.36163253 -0.36163253 -0.36163253 -0.36163253 -0.36163253\n",
            "   -0.36163253 -0.36163253 -0.36163253 -0.36163253 -0.36163253\n",
            "   -0.36163253 -0.36163253 -0.36163253 -0.36163253 -0.36163253\n",
            "   -0.36163253 -0.36163253 -0.36163253 -0.36163253  3.30556031\n",
            "    3.30556031 -0.36163253 -0.34725139]\n",
            "  [-0.36163253 -0.36163253 -0.36163253 -0.36163253 -0.36163253\n",
            "   -0.36163253 -0.36163253 -0.36163253 -0.36163253 -0.36163253\n",
            "   -0.36163253 -0.36163253 -0.36163253 -0.36163253 -0.36163253\n",
            "   -0.36163253 -0.36163253 -0.36163253 -0.36163253 -0.36163253\n",
            "   -0.36163253 -0.36163253 -0.36163253 -0.36163253  3.30556031\n",
            "    3.30556031 -0.36163253 -0.34725139]\n",
            "  [-0.36163253 -0.36163253 -0.36163253 -0.36163253 -0.36163253\n",
            "   -0.36163253 -0.36163253 -0.36163253 -0.36163253 -0.36163253\n",
            "   -0.36163253 -0.36163253 -0.36163253 -0.36163253 -0.36163253\n",
            "   -0.36163253 -0.36163253 -0.36163253 -0.36163253 -0.36163253\n",
            "   -0.36163253 -0.36163253 -0.36163253 -0.36163253  3.30556031\n",
            "    3.30556031 -0.36163253 -0.34725139]\n",
            "  [-0.36163253 -0.36163253 -0.36163253 -0.36163253 -0.36163253\n",
            "   -0.36163253 -0.36163253 -0.36163253 -0.36163253 -0.36163253\n",
            "   -0.36163253 -0.36163253 -0.36163253 -0.36163253 -0.36163253\n",
            "   -0.36163253 -0.36163253 -0.36163253 -0.36163253 -0.36163253\n",
            "   -0.36163253 -0.36163253 -0.36163253 -0.36163253  3.30556031\n",
            "    3.30556031 -0.36163253 -0.34725139]\n",
            "  [-0.36163253 -0.36163253 -0.36163253 -0.36163253 -0.36163253\n",
            "   -0.36163253 -0.36163253 -0.36163253 -0.36163253 -0.36163253\n",
            "   -0.36163253 -0.36163253 -0.36163253 -0.36163253 -0.36163253\n",
            "   -0.36163253 -0.36163253 -0.36163253 -0.36163253 -0.36163253\n",
            "   -0.36163253 -0.36163253 -0.36163253 -0.36163253  3.30556031\n",
            "    3.30556031 -0.36163253 -0.34725139]\n",
            "  [-0.36163253 -0.36163253 -0.36163253 -0.36163253 -0.36163253\n",
            "   -0.36163253 -0.36163253 -0.36163253 -0.36163253 -0.36163253\n",
            "   -0.36163253 -0.36163253 -0.36163253 -0.36163253 -0.36163253\n",
            "   -0.36163253 -0.36163253 -0.36163253 -0.36163253 -0.36163253\n",
            "   -0.36163253 -0.36163253 -0.36163253 -0.36163253  3.30556031\n",
            "    3.30556031 -0.36163253 -0.34725139]\n",
            "  [-0.36163253 -0.36163253 -0.36163253 -0.36163253 -0.36163253\n",
            "   -0.36163253 -0.36163253 -0.36163253 -0.36163253 -0.36163253\n",
            "   -0.36163253 -0.36163253 -0.36163253 -0.36163253 -0.36163253\n",
            "   -0.36163253 -0.36163253 -0.36163253 -0.36163253 -0.36163253\n",
            "   -0.36163253 -0.36163253 -0.36163253 -0.36163253  3.30556031\n",
            "    3.30556031 -0.36163253 -0.34725139]\n",
            "  [-0.36163253 -0.36163253 -0.36163253 -0.36163253 -0.36163253\n",
            "   -0.36163253 -0.36163253 -0.36163253 -0.36163253 -0.36163253\n",
            "   -0.36163253 -0.36163253 -0.36163253 -0.36163253 -0.36163253\n",
            "   -0.36163253 -0.36163253 -0.36163253 -0.36163253 -0.36163253\n",
            "   -0.36163253 -0.36163253 -0.36163253 -0.36163253  3.30556031\n",
            "    3.30556031 -0.36163253 -0.34725139]\n",
            "  [-0.36163253 -0.36163253 -0.36163253 -0.36163253 -0.36163253\n",
            "   -0.36163253 -0.36163253 -0.36163253 -0.36163253 -0.36163253\n",
            "   -0.36163253 -0.36163253 -0.36163253 -0.36163253 -0.36163253\n",
            "   -0.36163253 -0.36163253 -0.36163253 -0.36163253 -0.36163253\n",
            "   -0.36163253 -0.36163253 -0.36163253 -0.36163253  3.30556031\n",
            "    3.30556031 -0.36163253 -0.34725139]\n",
            "  [-0.36163253 -0.36163253 -0.36163253 -0.36163253 -0.36163253\n",
            "   -0.36163253 -0.36163253 -0.36163253 -0.36163253 -0.36163253\n",
            "   -0.36163253 -0.36163253 -0.36163253 -0.36163253 -0.36163253\n",
            "   -0.36163253 -0.36163253 -0.36163253 -0.36163253 -0.36163253\n",
            "   -0.36163253 -0.36163253 -0.36163253 -0.36163253  3.30556031\n",
            "    3.30556031 -0.36163253 -0.34725139]\n",
            "  [-0.36163253 -0.36163253 -0.36163253 -0.36163253 -0.36163253\n",
            "   -0.36163253 -0.36163253 -0.36163253 -0.36163253 -0.36163253\n",
            "   -0.36163253 -0.36163253 -0.36163253 -0.36163253 -0.36163253\n",
            "   -0.36163253 -0.36163253 -0.36163253 -0.36163253 -0.36163253\n",
            "   -0.36163253 -0.36163253 -0.36163253 -0.36163253  3.30556031\n",
            "    3.30556031 -0.36163253 -0.36163253]\n",
            "  [-0.36163253 -0.36163253 -0.36163253 -0.36163253 -0.36163253\n",
            "   -0.36163253 -0.36163253 -0.36163253 -0.36163253 -0.36163253\n",
            "   -0.36163253 -0.36163253 -0.36163253 -0.36163253 -0.36163253\n",
            "   -0.36163253 -0.36163253 -0.36163253 -0.36163253 -0.36163253\n",
            "   -0.36163253 -0.36163253 -0.36163253 -0.36163253  3.30556031\n",
            "    3.29117916 -0.33287024 -0.36163253]\n",
            "  [-0.36163253 -0.36163253 -0.36163253 -0.36163253 -0.36163253\n",
            "   -0.36163253 -0.36163253 -0.36163253 -0.36163253 -0.36163253\n",
            "   -0.36163253 -0.36163253 -0.36163253 -0.36163253 -0.36163253\n",
            "   -0.36163253 -0.36163253 -0.36163253 -0.36163253 -0.36163253\n",
            "   -0.36163253 -0.36163253 -0.36163253 -0.36163253 -0.36163253\n",
            "   -0.36163253 -0.36163253 -0.36163253]\n",
            "  [-0.36163253 -0.36163253 -0.36163253 -0.36163253 -0.36163253\n",
            "   -0.36163253 -0.36163253 -0.36163253 -0.36163253 -0.36163253\n",
            "   -0.36163253 -0.36163253 -0.36163253 -0.36163253 -0.36163253\n",
            "   -0.36163253 -0.36163253 -0.36163253 -0.36163253 -0.36163253\n",
            "   -0.36163253 -0.36163253 -0.36163253 -0.36163253 -0.36163253\n",
            "   -0.31848909 -0.34725139 -0.33287024]]] 0\n"
          ]
        }
      ]
    },
    {
      "cell_type": "code",
      "source": [
        "X_2 = torch.tensor(X_2)\n",
        "y_2 = torch.tensor(y_2)\n",
        "y_2 = y_2.type(torch.LongTensor)"
      ],
      "metadata": {
        "id": "yZM_scVp64q4"
      },
      "execution_count": 122,
      "outputs": []
    },
    {
      "cell_type": "code",
      "source": [
        "from sklearn.model_selection import train_test_split\n",
        "\n",
        "X_train1,X_val1,y_train1,y_val1 = train_test_split(X_2,y_2, test_size=0.2, random_state=42)\n",
        "print(X_train1.shape,X_val1.shape,y_train1.shape,y_val1.shape)\n",
        "X_train1=X_train1.to(device)\n",
        "X_val1=X_val1.to(device)\n",
        "y_train1=y_train1.to(device)\n",
        "y_val1=y_val1.to(device)"
      ],
      "metadata": {
        "colab": {
          "base_uri": "https://localhost:8080/"
        },
        "id": "GDw3ltNoxpa2",
        "outputId": "2bb63a21-1581-49f6-ac33-8cda65e4a096"
      },
      "execution_count": 123,
      "outputs": [
        {
          "output_type": "stream",
          "name": "stdout",
          "text": [
            "torch.Size([5047, 1, 28, 28]) torch.Size([1262, 1, 28, 28]) torch.Size([5047]) torch.Size([1262])\n"
          ]
        }
      ]
    },
    {
      "cell_type": "code",
      "source": [
        "X_train2,X_val2,y_train2,y_val2 = train_test_split(X,y, test_size=0.2, random_state=42)\n",
        "X_train2 = X_train2.to(device)\n",
        "X_val2 = X_val2.to(device)\n",
        "y_train2 = y_train2.to(device)\n",
        "y_val2 = y_val2.to(device)\n",
        "X_train2.shape, y_train2.shape, X_val2.shape, y_val2.shape"
      ],
      "metadata": {
        "colab": {
          "base_uri": "https://localhost:8080/"
        },
        "id": "qountV5u_vqk",
        "outputId": "fe819b0b-c168-42b6-f3ce-8bfe85d6de59"
      },
      "execution_count": 124,
      "outputs": [
        {
          "output_type": "execute_result",
          "data": {
            "text/plain": [
              "(torch.Size([56000, 1, 28, 28]),\n",
              " torch.Size([56000]),\n",
              " torch.Size([14000, 1, 28, 28]),\n",
              " torch.Size([14000]))"
            ]
          },
          "metadata": {},
          "execution_count": 124
        }
      ]
    },
    {
      "cell_type": "code",
      "source": [
        "X_train = torch.cat((X_train2,X_train1))\n",
        "X_val = torch.cat((X_val2,X_val1))\n",
        "y_train = torch.cat((y_train2,y_train1))\n",
        "y_val = torch.cat((y_val2,y_val1))\n",
        "\n",
        "print(X_train.shape,y_train.shape,X_val.shape,y_val.shape)\n"
      ],
      "metadata": {
        "colab": {
          "base_uri": "https://localhost:8080/"
        },
        "id": "L3Oc4JwVCLhq",
        "outputId": "e5bdb782-ec2d-4456-d2a9-91508dac018b"
      },
      "execution_count": 125,
      "outputs": [
        {
          "output_type": "stream",
          "name": "stdout",
          "text": [
            "torch.Size([61047, 1, 28, 28]) torch.Size([61047]) torch.Size([15262, 1, 28, 28]) torch.Size([15262])\n"
          ]
        }
      ]
    },
    {
      "cell_type": "code",
      "source": [
        "train_dataset = TensorDataset(X_train,y_train)\n",
        "val_dataset = TensorDataset(X_val,y_val)"
      ],
      "metadata": {
        "id": "irkWFjCjyKRX"
      },
      "execution_count": 126,
      "outputs": []
    },
    {
      "cell_type": "code",
      "source": [
        "num_batch = 128\n",
        "\n",
        "train_dataloader = DataLoader(dataset=train_dataset,batch_size = num_batch)\n",
        "val_dataloader = DataLoader(dataset=val_dataset,batch_size = num_batch)"
      ],
      "metadata": {
        "id": "moAwTqRjzEOx"
      },
      "execution_count": 127,
      "outputs": []
    },
    {
      "cell_type": "markdown",
      "source": [
        "# **BUILDING MODEL**"
      ],
      "metadata": {
        "id": "83-U6jGw9kbf"
      }
    },
    {
      "cell_type": "code",
      "source": [
        "import torch\n",
        "import torch.nn as nn\n",
        "import torch.nn.functional as F\n",
        "import time\n",
        "\n",
        "\n",
        "class sudokuCnn(nn.Module):\n",
        "  def __init__(self,output_classes,in_channels = 1):\n",
        "    super(sudokuCnn,self).__init__()\n",
        "    self.conv1 = nn.Conv2d(1,32,kernel_size = 5,stride = 1,padding = 1)\n",
        "    self.pool1 = nn.MaxPool2d(2)\n",
        "    self.conv2 = nn.Conv2d(32,32,kernel_size = 3, stride = 1,padding = 1)\n",
        "    self.pool2 = nn.MaxPool2d(2)\n",
        "    self.fc1 = nn.Linear(1152,128)\n",
        "    self.dropout1 = nn.Dropout(p=0.2)\n",
        "    self.fc2 = nn.Linear(128,64)\n",
        "    self.output = nn.Linear(64, output_classes)\n",
        "\n",
        "  def forward(self,x):\n",
        "    x=x.float()\n",
        "    x = self.conv1(x)\n",
        "    x = F.relu(x)\n",
        "    x = self.pool1(x)\n",
        "    x = self.conv2(x)\n",
        "    x = F.relu(x)\n",
        "    x = self.pool2(x)\n",
        "    x = x.reshape(x.shape[0],-1)\n",
        "    x = self.fc1(x)\n",
        "    x = F.relu(x)\n",
        "    x = self.dropout1(x)\n",
        "    x = self.fc2(x)\n",
        "    x = F.relu(x)\n",
        "    x = self.output(x)\n",
        "    x = F.softmax(x)\n",
        "\n",
        "    return x\n",
        "\n"
      ],
      "metadata": {
        "id": "xBhEfxGhPgqO"
      },
      "execution_count": 128,
      "outputs": []
    },
    {
      "cell_type": "markdown",
      "source": [
        "# **VALIDATING MODEL**"
      ],
      "metadata": {
        "id": "5rN0WKTl90Ea"
      }
    },
    {
      "cell_type": "code",
      "source": [
        "def check_accuracy(model,dataloader):\n",
        "  num_correct = 0\n",
        "  num_samples = 0\n",
        "  model.eval()\n",
        "  model = model.to(device)\n",
        "\n",
        "  with torch.no_grad():\n",
        "    for DATA  in dataloader:\n",
        "      data = DATA[0].float()\n",
        "      data = data.to(device)\n",
        "      classes = DATA[1].float()\n",
        "      classes = classes.to(device)\n",
        "      scores = model(data)\n",
        "      predictions = scores.argmax(1)\n",
        "      num_correct += sum((predictions == classes))\n",
        "      num_samples += predictions.size(0)\n",
        "\n",
        "    return float(num_correct)/float(num_samples)"
      ],
      "metadata": {
        "id": "S_vn9hsAQA10"
      },
      "execution_count": 129,
      "outputs": []
    },
    {
      "cell_type": "markdown",
      "source": [
        "# **TRAINING FUNCTION**"
      ],
      "metadata": {
        "id": "oIPsTjaA98uS"
      }
    },
    {
      "cell_type": "code",
      "source": [
        "def train (model,loss_function,optimizer,train_dl,val_dl,epochs):\n",
        "  if torch.cuda.is_available(): torch.cuda.empty_cache()\n",
        "  model = model.to(device = device)\n",
        "  history = {\"train_accuracies\": [], \"val_accuracies\": [], \"loss\":[]}\n",
        "\n",
        "  for epoch in range (epochs):\n",
        "\n",
        "    model.train()\n",
        "    train_loss = 0\n",
        "    start = time.time()\n",
        "\n",
        "    for batch_no,DATA in enumerate(train_dl,0):\n",
        "      data,classes = DATA\n",
        "      optimizer.zero_grad()\n",
        "      data = data.to(torch.float32)\n",
        "      data = data.to(device).float()\n",
        "      classes = classes.to(device)\n",
        "      outputs = model(data)\n",
        "      loss = loss_function(outputs,classes)\n",
        "      loss.backward()\n",
        "      optimizer.step()\n",
        "\n",
        "\n",
        "      running_loss = loss.item()\n",
        "\n",
        "    #getting the stats\n",
        "    history['train_accuracies'].append(check_accuracy(model,train_dl))\n",
        "    history['val_accuracies'].append(check_accuracy(model,val_dl))\n",
        "    history['loss'].append(running_loss/(len(train_dl)))\n",
        "\n",
        "    end = time.time()\n",
        "    total_time = end-start\n",
        "\n",
        "    #printing the stats\n",
        "    print('Epoch ({}/{}),Training loss : {:.8f}, Time: {:.2f}, train_accuracy:{:.4f}, val_accuracy:{:.4f}'.format(\n",
        "          epoch+1, epochs, history[\"loss\"][-1], total_time, history[\"train_accuracies\"][-1], history[\"val_accuracies\"][-1]))\n",
        "\n",
        "  return model, history"
      ],
      "metadata": {
        "id": "IeBMVXbWPq1m"
      },
      "execution_count": 130,
      "outputs": []
    },
    {
      "cell_type": "code",
      "source": [
        "if torch.cuda.is_available():\n",
        "    device = torch.device(\"cuda:0\")\n",
        "else:\n",
        "    device = torch.device(\"cpu\")\n",
        "    print(\"No Cuda Available\")\n",
        "device"
      ],
      "metadata": {
        "colab": {
          "base_uri": "https://localhost:8080/"
        },
        "id": "ZahRIyXV-DFw",
        "outputId": "4840aa6d-2089-42d0-802c-49106d8bd61f"
      },
      "execution_count": 131,
      "outputs": [
        {
          "output_type": "execute_result",
          "data": {
            "text/plain": [
              "device(type='cuda', index=0)"
            ]
          },
          "metadata": {},
          "execution_count": 131
        }
      ]
    },
    {
      "cell_type": "markdown",
      "source": [
        "# **TRAINING THE MODEL**"
      ],
      "metadata": {
        "id": "iZiDwsA9-RlX"
      }
    },
    {
      "cell_type": "code",
      "source": [
        "epochs = 10\n",
        "learning_rate = 1e-3"
      ],
      "metadata": {
        "id": "qex0ECT5QRgT"
      },
      "execution_count": 132,
      "outputs": []
    },
    {
      "cell_type": "code",
      "source": [
        "model  = sudokuCnn(output_classes=10)\n",
        "\n",
        "loss_fn = nn.CrossEntropyLoss()\n",
        "optimizer = optim.Adam(model.parameters(), lr = learning_rate)"
      ],
      "metadata": {
        "id": "Gn8wEJuNQKnK"
      },
      "execution_count": 112,
      "outputs": []
    },
    {
      "cell_type": "code",
      "source": [
        "start = time.time()\n",
        "model,history = train(model = model,\n",
        "                      loss_function=loss_fn,\n",
        "                      optimizer = optimizer,\n",
        "                      train_dl = train_dataloader,\n",
        "                      val_dl = val_dataloader,\n",
        "                      epochs = epochs)\n",
        "end = time.time()\n",
        "elapsed = end-start\n",
        "print(\"Total time :\", elapsed)"
      ],
      "metadata": {
        "colab": {
          "base_uri": "https://localhost:8080/"
        },
        "id": "jHpWzsU_QZI-",
        "outputId": "5065041e-9cf1-4851-a908-a4d15c913ef8"
      },
      "execution_count": 133,
      "outputs": [
        {
          "output_type": "stream",
          "name": "stderr",
          "text": [
            "<ipython-input-110-b2e4e3b93e43>:34: UserWarning: Implicit dimension choice for softmax has been deprecated. Change the call to include dim=X as an argument.\n",
            "  x = F.softmax(x)\n"
          ]
        },
        {
          "output_type": "stream",
          "name": "stdout",
          "text": [
            "Epoch (1/10),Training loss : 0.00367702, Time: 3.52, train_accuracy:0.8835, val_accuracy:0.8799\n",
            "Epoch (2/10),Training loss : 0.00348519, Time: 4.47, train_accuracy:0.8988, val_accuracy:0.8958\n",
            "Epoch (3/10),Training loss : 0.00325825, Time: 3.68, train_accuracy:0.9327, val_accuracy:0.9296\n",
            "Epoch (4/10),Training loss : 0.00323324, Time: 3.49, train_accuracy:0.9596, val_accuracy:0.9543\n",
            "Epoch (5/10),Training loss : 0.00318869, Time: 3.46, train_accuracy:0.9603, val_accuracy:0.9541\n",
            "Epoch (6/10),Training loss : 0.00312545, Time: 4.45, train_accuracy:0.9771, val_accuracy:0.9720\n",
            "Epoch (7/10),Training loss : 0.00310886, Time: 3.50, train_accuracy:0.9824, val_accuracy:0.9761\n",
            "Epoch (8/10),Training loss : 0.00313558, Time: 3.45, train_accuracy:0.9836, val_accuracy:0.9753\n",
            "Epoch (9/10),Training loss : 0.00315765, Time: 3.94, train_accuracy:0.9830, val_accuracy:0.9773\n",
            "Epoch (10/10),Training loss : 0.00310654, Time: 4.14, train_accuracy:0.9831, val_accuracy:0.9762\n",
            "Total time : 38.113142251968384\n"
          ]
        }
      ]
    },
    {
      "cell_type": "code",
      "source": [
        "def plot_analysis(history,epochs):\n",
        "  epoch_no = [(i+1) for i in range(epochs)]\n",
        "\n",
        "  plt.plot(epoch_no,history[\"train_accuracies\"], label = 'Train Accuracies')\n",
        "  plt.plot(epoch_no,history[\"val_accuracies\"], label = 'Validation Accuracies')\n",
        "  plt.xlabel(\"Epochs\")\n",
        "  plt.ylabel(\"Accuracies\")\n",
        "  plt.title('Accuracy')\n",
        "  plt.legend()\n",
        "  plt.show()\n",
        "\n",
        "  plt.plot(epoch_no,history[\"loss\"])\n",
        "  plt.xlabel(\"Epochs\")\n",
        "  plt.ylabel(\"Loss\")\n",
        "  plt.title('Loss')\n",
        "  plt.show()\n"
      ],
      "metadata": {
        "id": "V31V5ZsAQivt"
      },
      "execution_count": 134,
      "outputs": []
    },
    {
      "cell_type": "markdown",
      "source": [
        "# **SAVING THE BEST MODEL**"
      ],
      "metadata": {
        "id": "Q96jp1f4BAli"
      }
    },
    {
      "cell_type": "code",
      "source": [
        "torch.save(model.state_dict(), 'modelweights.pth')"
      ],
      "metadata": {
        "id": "3rVJdyMIQoGu"
      },
      "execution_count": 63,
      "outputs": []
    },
    {
      "cell_type": "markdown",
      "source": [
        "# **PLOT ANALYSIS**"
      ],
      "metadata": {
        "id": "SgeA8P9wQtjc"
      }
    },
    {
      "cell_type": "code",
      "source": [
        "plot_analysis(history,epochs)"
      ],
      "metadata": {
        "colab": {
          "base_uri": "https://localhost:8080/",
          "height": 927
        },
        "id": "t16qFtLwQwsy",
        "outputId": "a34ef0da-efaa-4ac9-adef-d92c5fe4402b"
      },
      "execution_count": 135,
      "outputs": [
        {
          "output_type": "display_data",
          "data": {
            "text/plain": [
              "<Figure size 640x480 with 1 Axes>"
            ],
            "image/png": "[encoded data removed]"
          },
          "metadata": {}
        },
        {
          "output_type": "display_data",
          "data": {
            "text/plain": [
              "<Figure size 640x480 with 1 Axes>"
            ],
            "image/png": "[encoded data removed]"
          },
          "metadata": {}
        }
      ]
    },
    {
      "cell_type": "markdown",
      "source": [
        "# **PREDICTION**"
      ],
      "metadata": {
        "id": "5F1JwCTuCp3d"
      }
    },
    {
      "cell_type": "code",
      "source": [
        "def predict(model,x):\n",
        "    device = torch.device(\"cuda\")\n",
        "    model.eval()\n",
        "    model = model.to(device = device)\n",
        "    with torch.no_grad():\n",
        "      x.to(device)\n",
        "      scores = model(x)\n",
        "      prediction = scores.argmax(1)\n",
        "\n",
        "    return prediction"
      ],
      "metadata": {
        "id": "oY6RScQXEo4n"
      },
      "execution_count": 136,
      "outputs": []
    },
    {
      "cell_type": "code",
      "source": [
        "img=cv2.imread('9.png')\n",
        "if img is None:\n",
        "    raise FileNotFoundError('The image file could not be read. Please check the file path.')\n",
        "\n",
        "cv2_imshow(img)\n",
        "cv2.waitKey(0)\n",
        "cv2.destroyAllWindows()\n",
        "\n",
        "img = cv2.cvtColor(img, cv2.COLOR_BGR2GRAY)\n",
        "img = cv2.resize(img, (28, 28))"
      ],
      "metadata": {
        "colab": {
          "base_uri": "https://localhost:8080/",
          "height": 117
        },
        "id": "DCQywvT9DBFP",
        "outputId": "7c4d52da-899c-4a43-b46b-d84fb863a2dd"
      },
      "execution_count": 137,
      "outputs": [
        {
          "output_type": "display_data",
          "data": {
            "text/plain": [
              "<PIL.Image.Image image mode=RGB size=99x100>"
            ],
            "image/png": "[encoded data removed]"
          },
          "metadata": {}
        }
      ]
    },
    {
      "cell_type": "code",
      "source": [
        "plt.imshow(x)"
      ],
      "metadata": {
        "colab": {
          "base_uri": "https://localhost:8080/",
          "height": 447
        },
        "id": "EVqXSqAEDlHL",
        "outputId": "1f29ec52-5b5d-4c5a-b745-1d4016f0a700"
      },
      "execution_count": 138,
      "outputs": [
        {
          "output_type": "execute_result",
          "data": {
            "text/plain": [
              "<matplotlib.image.AxesImage at 0x7d939510eaa0>"
            ]
          },
          "metadata": {},
          "execution_count": 138
        },
        {
          "output_type": "display_data",
          "data": {
            "text/plain": [
              "<Figure size 640x480 with 1 Axes>"
            ],
            "image/png": "[encoded data removed]"
          },
          "metadata": {}
        }
      ]
    },
    {
      "cell_type": "markdown",
      "source": [
        "# **PREDICTION**"
      ],
      "metadata": {
        "id": "um-1GjkMDpbg"
      }
    },
    {
      "cell_type": "code",
      "source": [
        "digit = torch.tensor(img)\n",
        "digit = digit.reshape((1,1,28,28)).float()\n",
        "model.eval()\n",
        "digit = digit.to(device)"
      ],
      "metadata": {
        "id": "HCp29NjmCvTd"
      },
      "execution_count": 139,
      "outputs": []
    },
    {
      "cell_type": "code",
      "source": [
        "digit_read = predict(model,digit)\n",
        "print(digit_read)"
      ],
      "metadata": {
        "colab": {
          "base_uri": "https://localhost:8080/"
        },
        "id": "i4rTkjQ9DHVr",
        "outputId": "2d27b171-f201-4720-e309-3edc1accb5ca"
      },
      "execution_count": 140,
      "outputs": [
        {
          "output_type": "stream",
          "name": "stdout",
          "text": [
            "tensor([9], device='cuda:0')\n"
          ]
        },
        {
          "output_type": "stream",
          "name": "stderr",
          "text": [
            "<ipython-input-110-b2e4e3b93e43>:34: UserWarning: Implicit dimension choice for softmax has been deprecated. Change the call to include dim=X as an argument.\n",
            "  x = F.softmax(x)\n"
          ]
        }
      ]
    }
  ]
}